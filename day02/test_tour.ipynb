{
 "cells": [
  {
   "cell_type": "markdown",
   "metadata": {},
   "source": [
    "beautifulsoup 테스트"
   ]
  },
  {
   "cell_type": "code",
   "execution_count": 1,
   "metadata": {},
   "outputs": [],
   "source": [
    "from bs4 import BeautifulSoup\n"
   ]
  },
  {
   "cell_type": "code",
   "execution_count": 2,
   "metadata": {},
   "outputs": [
    {
     "data": {
      "text/plain": [
       "'<h1 id=\"title\">한빛출판네트워크</h1><div class=\"top\"><ul class=\"menu\"><li><a href=http://www.hanbit.co.kr/member/login.html class=\"login\">로그인 </a></li></ul><ul class=\"brand\"><li><a href=\"http://www.hanbit.co.kr/media/>한빛미디어<li><a href=\"http://www.hanbit.co.kr/academy/\">한빛아카데미</a></li></ul></div>'"
      ]
     },
     "execution_count": 2,
     "metadata": {},
     "output_type": "execute_result"
    }
   ],
   "source": [
    "# 연습용 html\n",
    "html = '<h1 id=\"title\">한빛출판네트워크</h1><div class=\"top\"><ul class=\"menu\"><li><a href=http://www.hanbit.co.kr/member/login.html class=\"login\">로그인 </a></li></ul><ul class=\"brand\"><li><a href=\"http://www.hanbit.co.kr/media/>한빛미디어<li><a href=\"http://www.hanbit.co.kr/academy/\">한빛아카데미</a></li></ul></div>'\n",
    "\n",
    "html\n",
    "\n",
    "#얘는 parsing 전이라서 아직 문자열임"
   ]
  },
  {
   "cell_type": "code",
   "execution_count": 3,
   "metadata": {},
   "outputs": [
    {
     "data": {
      "text/plain": [
       "<h1 id=\"title\">한빛출판네트워크</h1><div class=\"top\"><ul class=\"menu\"><li><a class=\"login\" href=\"http://www.hanbit.co.kr/member/login.html\">로그인 </a></li></ul><ul class=\"brand\"><li><a \"=\"\" academy=\"\" href=\"http://www.hanbit.co.kr/media/&gt;한빛미디어&lt;li&gt;&lt;a href=\" http:=\"\" www.hanbit.co.kr=\"\">한빛아카데미</a></li></ul></div>"
      ]
     },
     "execution_count": 3,
     "metadata": {},
     "output_type": "execute_result"
    }
   ],
   "source": [
    "soup = BeautifulSoup(html, 'html.parser')\n",
    "\n",
    "soup\n",
    "#얘는 parsing해서 더이상 문자열이 아님"
   ]
  },
  {
   "cell_type": "code",
   "execution_count": 5,
   "metadata": {},
   "outputs": [
    {
     "name": "stdout",
     "output_type": "stream",
     "text": [
      "<h1 id=\"title\">\n",
      " 한빛출판네트워크\n",
      "</h1>\n",
      "<div class=\"top\">\n",
      " <ul class=\"menu\">\n",
      "  <li>\n",
      "   <a class=\"login\" href=\"http://www.hanbit.co.kr/member/login.html\">\n",
      "    로그인\n",
      "   </a>\n",
      "  </li>\n",
      " </ul>\n",
      " <ul class=\"brand\">\n",
      "  <li>\n",
      "   <a \"=\"\" academy=\"\" href=\"http://www.hanbit.co.kr/media/&gt;한빛미디어&lt;li&gt;&lt;a href=\" http:=\"\" www.hanbit.co.kr=\"\">\n",
      "    한빛아카데미\n",
      "   </a>\n",
      "  </li>\n",
      " </ul>\n",
      "</div>\n"
     ]
    }
   ],
   "source": [
    "print(soup.prettify())\n",
    "#웹페이지에서 관리자 모드로 보이는 것처럼 나타내줌(보기 편하다!)"
   ]
  },
  {
   "cell_type": "code",
   "execution_count": 6,
   "metadata": {},
   "outputs": [
    {
     "data": {
      "text/plain": [
       "<h1 id=\"title\">한빛출판네트워크</h1>"
      ]
     },
     "execution_count": 6,
     "metadata": {},
     "output_type": "execute_result"
    }
   ],
   "source": [
    "soup.h1"
   ]
  },
  {
   "cell_type": "code",
   "execution_count": 7,
   "metadata": {},
   "outputs": [
    {
     "data": {
      "text/plain": [
       "<div class=\"top\"><ul class=\"menu\"><li><a class=\"login\" href=\"http://www.hanbit.co.kr/member/login.html\">로그인 </a></li></ul><ul class=\"brand\"><li><a \"=\"\" academy=\"\" href=\"http://www.hanbit.co.kr/media/&gt;한빛미디어&lt;li&gt;&lt;a href=\" http:=\"\" www.hanbit.co.kr=\"\">한빛아카데미</a></li></ul></div>"
      ]
     },
     "execution_count": 7,
     "metadata": {},
     "output_type": "execute_result"
    }
   ],
   "source": [
    "soup.div"
   ]
  },
  {
   "cell_type": "code",
   "execution_count": 8,
   "metadata": {},
   "outputs": [
    {
     "data": {
      "text/plain": [
       "<ul class=\"menu\"><li><a class=\"login\" href=\"http://www.hanbit.co.kr/member/login.html\">로그인 </a></li></ul>"
      ]
     },
     "execution_count": 8,
     "metadata": {},
     "output_type": "execute_result"
    }
   ],
   "source": [
    "soup.div.ul"
   ]
  },
  {
   "cell_type": "code",
   "execution_count": 9,
   "metadata": {},
   "outputs": [
    {
     "data": {
      "text/plain": [
       "<li><a class=\"login\" href=\"http://www.hanbit.co.kr/member/login.html\">로그인 </a></li>"
      ]
     },
     "execution_count": 9,
     "metadata": {},
     "output_type": "execute_result"
    }
   ],
   "source": [
    "soup.div.ul.li"
   ]
  },
  {
   "cell_type": "code",
   "execution_count": 10,
   "metadata": {},
   "outputs": [
    {
     "data": {
      "text/plain": [
       "<a class=\"login\" href=\"http://www.hanbit.co.kr/member/login.html\">로그인 </a>"
      ]
     },
     "execution_count": 10,
     "metadata": {},
     "output_type": "execute_result"
    }
   ],
   "source": [
    "soup.div.ul.li.a"
   ]
  },
  {
   "cell_type": "code",
   "execution_count": 11,
   "metadata": {},
   "outputs": [
    {
     "data": {
      "text/plain": [
       "<li><a class=\"login\" href=\"http://www.hanbit.co.kr/member/login.html\">로그인 </a></li>"
      ]
     },
     "execution_count": 11,
     "metadata": {},
     "output_type": "execute_result"
    }
   ],
   "source": [
    "soup.find('li')"
   ]
  },
  {
   "cell_type": "code",
   "execution_count": 12,
   "metadata": {},
   "outputs": [
    {
     "data": {
      "text/plain": [
       "[<li><a class=\"login\" href=\"http://www.hanbit.co.kr/member/login.html\">로그인 </a></li>,\n",
       " <li><a \"=\"\" academy=\"\" href=\"http://www.hanbit.co.kr/media/&gt;한빛미디어&lt;li&gt;&lt;a href=\" http:=\"\" www.hanbit.co.kr=\"\">한빛아카데미</a></li>]"
      ]
     },
     "execution_count": 12,
     "metadata": {},
     "output_type": "execute_result"
    }
   ],
   "source": [
    "soup.find_all('li')"
   ]
  },
  {
   "cell_type": "code",
   "execution_count": 13,
   "metadata": {},
   "outputs": [
    {
     "data": {
      "text/plain": [
       "<a class=\"login\" href=\"http://www.hanbit.co.kr/member/login.html\">로그인 </a>"
      ]
     },
     "execution_count": 13,
     "metadata": {},
     "output_type": "execute_result"
    }
   ],
   "source": [
    "tag_a = soup.a\n",
    "tag_a"
   ]
  },
  {
   "cell_type": "code",
   "execution_count": 14,
   "metadata": {},
   "outputs": [
    {
     "data": {
      "text/plain": [
       "{'href': 'http://www.hanbit.co.kr/member/login.html', 'class': ['login']}"
      ]
     },
     "execution_count": 14,
     "metadata": {},
     "output_type": "execute_result"
    }
   ],
   "source": [
    "tag_a.attrs"
   ]
  },
  {
   "cell_type": "code",
   "execution_count": 15,
   "metadata": {},
   "outputs": [
    {
     "data": {
      "text/plain": [
       "'http://www.hanbit.co.kr/member/login.html'"
      ]
     },
     "execution_count": 15,
     "metadata": {},
     "output_type": "execute_result"
    }
   ],
   "source": [
    "tag_a['href']"
   ]
  },
  {
   "cell_type": "code",
   "execution_count": 16,
   "metadata": {},
   "outputs": [
    {
     "data": {
      "text/plain": [
       "['login']"
      ]
     },
     "execution_count": 16,
     "metadata": {},
     "output_type": "execute_result"
    }
   ],
   "source": [
    "tag_a['class']"
   ]
  },
  {
   "cell_type": "code",
   "execution_count": null,
   "metadata": {},
   "outputs": [],
   "source": []
  }
 ],
 "metadata": {
  "kernelspec": {
   "display_name": "Python 3.10.5 64-bit (windows store)",
   "language": "python",
   "name": "python3"
  },
  "language_info": {
   "codemirror_mode": {
    "name": "ipython",
    "version": 3
   },
   "file_extension": ".py",
   "mimetype": "text/x-python",
   "name": "python",
   "nbconvert_exporter": "python",
   "pygments_lexer": "ipython3",
   "version": "3.10.5"
  },
  "orig_nbformat": 4,
  "vscode": {
   "interpreter": {
    "hash": "8bf0d51478355d2251941b3b98616086516a0eddd7c72ee47a3371765770709a"
   }
  }
 },
 "nbformat": 4,
 "nbformat_minor": 2
}
